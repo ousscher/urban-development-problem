{
 "cells": [
  {
   "cell_type": "markdown",
   "metadata": {},
   "source": [
    "importations"
   ]
  },
  {
   "cell_type": "code",
   "execution_count": 1,
   "metadata": {},
   "outputs": [],
   "source": [
    "import pandas as pd\n",
    "from sklearn.model_selection import train_test_split\n",
    "from sklearn.preprocessing import StandardScaler\n",
    "from sklearn.impute import SimpleImputer\n",
    "from sklearn.preprocessing import LabelEncoder\n",
    "from sklearn import svm\n",
    "from sklearn.naive_bayes import GaussianNB\n",
    "import numpy as np\n",
    "import matplotlib.pyplot as plt\n",
    "from sklearn.preprocessing import StandardScaler\n",
    "from sklearn.multiclass      import OneVsOneClassifier\n",
    "from sklearn.utils import resample\n"
   ]
  },
  {
   "cell_type": "markdown",
   "metadata": {},
   "source": [
    "data preparation"
   ]
  },
  {
   "cell_type": "code",
   "execution_count": 6,
   "metadata": {},
   "outputs": [
    {
     "name": "stdout",
     "output_type": "stream",
     "text": [
      "development_trend_score\n",
      "3    4019\n",
      "2    2018\n",
      "4    1949\n",
      "1    1018\n",
      "5     996\n",
      "Name: count, dtype: int64\n",
      "development_trend_score\n",
      "5    996\n",
      "1    996\n",
      "2    996\n",
      "4    996\n",
      "3    996\n",
      "Name: count, dtype: int64\n",
      "development_trend_score\n",
      "5    996\n",
      "1    996\n",
      "2    996\n",
      "4    996\n",
      "3    996\n",
      "Name: count, dtype: int64\n"
     ]
    },
    {
     "data": {
      "text/plain": [
       "(4980, 20)"
      ]
     },
     "execution_count": 6,
     "metadata": {},
     "output_type": "execute_result"
    }
   ],
   "source": [
    "# df = pd.read_csv('./data/urban_development_dataset.csv')\n",
    "# min_class = df['development_trend_score'].value_counts().idxmin()\n",
    "# print(df['development_trend_score'].value_counts())\n",
    "# #undersampling \n",
    "# df_undersampled = pd.DataFrame()\n",
    "# min_class_size = df['development_trend_score'].value_counts().min()\n",
    "# for cls in df['development_trend_score'].unique():\n",
    "#     df_class = df[df['development_trend_score'] == cls]\n",
    "#     df_class_undersampled = resample(\n",
    "#         df_class,\n",
    "#         replace=False,  # Sample without replacement\n",
    "#         n_samples=min_class_size,  # Match the size of the minority class\n",
    "#         random_state=42  # Ensure reproducibility\n",
    "#     )\n",
    "#     df_undersampled = pd.concat([df_undersampled, df_class_undersampled])\n",
    "\n",
    "# df_undersampled = df_undersampled.sample(frac=1, random_state=42).reset_index(drop=True)\n",
    "\n",
    "# print(df_undersampled['development_trend_score'].value_counts())\n",
    "# df = df_undersampled\n",
    "# #oversampling\n",
    "\n",
    "\n",
    "# #----\n",
    "# print(df['development_trend_score'].value_counts())\n",
    "# test_data = pd.read_csv('./data/urban_development_test_data.csv')\n",
    "# common_columns = df.columns.intersection(test_data.columns)\n",
    "# Y = df['development_trend_score']\n",
    "# df = df[common_columns]\n",
    "# test_data = test_data[common_columns]\n",
    "# le = LabelEncoder()\n",
    "# df.head()\n",
    "# df.shape\n"
   ]
  },
  {
   "cell_type": "code",
   "execution_count": 23,
   "metadata": {},
   "outputs": [
    {
     "name": "stdout",
     "output_type": "stream",
     "text": [
      "Répartition initiale des classes :\n",
      "development_trend_score\n",
      "3    4019\n",
      "2    2018\n",
      "4    1949\n",
      "1    1018\n",
      "5     996\n",
      "Name: count, dtype: int64\n",
      "\n",
      "Répartition après équilibrage :\n",
      "development_trend_score\n",
      "4    4019\n",
      "5    4019\n",
      "2    4019\n",
      "1    4019\n",
      "3    4019\n",
      "Name: count, dtype: int64\n"
     ]
    },
    {
     "data": {
      "text/html": [
       "<div>\n",
       "<style scoped>\n",
       "    .dataframe tbody tr th:only-of-type {\n",
       "        vertical-align: middle;\n",
       "    }\n",
       "\n",
       "    .dataframe tbody tr th {\n",
       "        vertical-align: top;\n",
       "    }\n",
       "\n",
       "    .dataframe thead th {\n",
       "        text-align: right;\n",
       "    }\n",
       "</style>\n",
       "<table border=\"1\" class=\"dataframe\">\n",
       "  <thead>\n",
       "    <tr style=\"text-align: right;\">\n",
       "      <th></th>\n",
       "      <th>population_density</th>\n",
       "      <th>median_age</th>\n",
       "      <th>average_household_income</th>\n",
       "      <th>number_of_schools</th>\n",
       "      <th>number_of_hospitals</th>\n",
       "      <th>number_of_parks</th>\n",
       "      <th>public_transport_availability</th>\n",
       "      <th>unemployment_rate</th>\n",
       "      <th>retail_density</th>\n",
       "      <th>office_space_availability</th>\n",
       "      <th>green_space_percentage</th>\n",
       "      <th>average_temperature</th>\n",
       "      <th>air_quality_index</th>\n",
       "      <th>crime_rate_per_1000</th>\n",
       "      <th>fire_station_proximity</th>\n",
       "      <th>proximity_to_highways</th>\n",
       "      <th>internet_speed</th>\n",
       "      <th>housing_price_index</th>\n",
       "      <th>year</th>\n",
       "      <th>road_density</th>\n",
       "    </tr>\n",
       "  </thead>\n",
       "  <tbody>\n",
       "    <tr>\n",
       "      <th>5846</th>\n",
       "      <td>10854.540185</td>\n",
       "      <td>28.768197</td>\n",
       "      <td>85199.479760</td>\n",
       "      <td>3.0</td>\n",
       "      <td>1.0</td>\n",
       "      <td>3.0</td>\n",
       "      <td>0.968911</td>\n",
       "      <td>6.358546</td>\n",
       "      <td>42.998103</td>\n",
       "      <td>47808.665014</td>\n",
       "      <td>30.073580</td>\n",
       "      <td>10.113789</td>\n",
       "      <td>52.830152</td>\n",
       "      <td>19.879518</td>\n",
       "      <td>0.669529</td>\n",
       "      <td>18.877326</td>\n",
       "      <td>91.490016</td>\n",
       "      <td>88.356512</td>\n",
       "      <td>2022.0</td>\n",
       "      <td>108.759141</td>\n",
       "    </tr>\n",
       "    <tr>\n",
       "      <th>7544</th>\n",
       "      <td>7116.340188</td>\n",
       "      <td>19.603743</td>\n",
       "      <td>37137.715368</td>\n",
       "      <td>7.0</td>\n",
       "      <td>3.0</td>\n",
       "      <td>6.0</td>\n",
       "      <td>0.742236</td>\n",
       "      <td>4.228577</td>\n",
       "      <td>30.537517</td>\n",
       "      <td>66341.178029</td>\n",
       "      <td>34.961826</td>\n",
       "      <td>13.203461</td>\n",
       "      <td>86.298477</td>\n",
       "      <td>65.531645</td>\n",
       "      <td>6.284401</td>\n",
       "      <td>11.449390</td>\n",
       "      <td>31.791613</td>\n",
       "      <td>107.527199</td>\n",
       "      <td>2022.0</td>\n",
       "      <td>70.697805</td>\n",
       "    </tr>\n",
       "    <tr>\n",
       "      <th>4545</th>\n",
       "      <td>6168.628333</td>\n",
       "      <td>19.555451</td>\n",
       "      <td>63351.767633</td>\n",
       "      <td>9.0</td>\n",
       "      <td>0.0</td>\n",
       "      <td>0.0</td>\n",
       "      <td>NaN</td>\n",
       "      <td>4.145707</td>\n",
       "      <td>45.437759</td>\n",
       "      <td>31054.949220</td>\n",
       "      <td>46.106749</td>\n",
       "      <td>16.503922</td>\n",
       "      <td>56.146415</td>\n",
       "      <td>31.978132</td>\n",
       "      <td>3.830554</td>\n",
       "      <td>9.470108</td>\n",
       "      <td>61.333742</td>\n",
       "      <td>98.681242</td>\n",
       "      <td>2018.0</td>\n",
       "      <td>64.243977</td>\n",
       "    </tr>\n",
       "    <tr>\n",
       "      <th>6680</th>\n",
       "      <td>4369.467332</td>\n",
       "      <td>38.933783</td>\n",
       "      <td>54554.097575</td>\n",
       "      <td>7.0</td>\n",
       "      <td>3.0</td>\n",
       "      <td>5.0</td>\n",
       "      <td>0.642622</td>\n",
       "      <td>5.976038</td>\n",
       "      <td>47.733647</td>\n",
       "      <td>27306.192868</td>\n",
       "      <td>21.120700</td>\n",
       "      <td>22.609254</td>\n",
       "      <td>31.514748</td>\n",
       "      <td>18.892706</td>\n",
       "      <td>7.960523</td>\n",
       "      <td>3.198202</td>\n",
       "      <td>35.004245</td>\n",
       "      <td>106.552954</td>\n",
       "      <td>2018.0</td>\n",
       "      <td>NaN</td>\n",
       "    </tr>\n",
       "    <tr>\n",
       "      <th>5855</th>\n",
       "      <td>1403.570521</td>\n",
       "      <td>38.234524</td>\n",
       "      <td>51493.071701</td>\n",
       "      <td>3.0</td>\n",
       "      <td>3.0</td>\n",
       "      <td>1.0</td>\n",
       "      <td>0.171976</td>\n",
       "      <td>4.528690</td>\n",
       "      <td>46.886549</td>\n",
       "      <td>16408.720240</td>\n",
       "      <td>43.017724</td>\n",
       "      <td>11.756975</td>\n",
       "      <td>39.365717</td>\n",
       "      <td>28.556242</td>\n",
       "      <td>5.401078</td>\n",
       "      <td>17.167561</td>\n",
       "      <td>73.958336</td>\n",
       "      <td>87.267601</td>\n",
       "      <td>2021.0</td>\n",
       "      <td>16.100594</td>\n",
       "    </tr>\n",
       "  </tbody>\n",
       "</table>\n",
       "</div>"
      ],
      "text/plain": [
       "      population_density  median_age  average_household_income  \\\n",
       "5846        10854.540185   28.768197              85199.479760   \n",
       "7544         7116.340188   19.603743              37137.715368   \n",
       "4545         6168.628333   19.555451              63351.767633   \n",
       "6680         4369.467332   38.933783              54554.097575   \n",
       "5855         1403.570521   38.234524              51493.071701   \n",
       "\n",
       "      number_of_schools  number_of_hospitals  number_of_parks  \\\n",
       "5846                3.0                  1.0              3.0   \n",
       "7544                7.0                  3.0              6.0   \n",
       "4545                9.0                  0.0              0.0   \n",
       "6680                7.0                  3.0              5.0   \n",
       "5855                3.0                  3.0              1.0   \n",
       "\n",
       "      public_transport_availability  unemployment_rate  retail_density  \\\n",
       "5846                       0.968911           6.358546       42.998103   \n",
       "7544                       0.742236           4.228577       30.537517   \n",
       "4545                            NaN           4.145707       45.437759   \n",
       "6680                       0.642622           5.976038       47.733647   \n",
       "5855                       0.171976           4.528690       46.886549   \n",
       "\n",
       "      office_space_availability  green_space_percentage  average_temperature  \\\n",
       "5846               47808.665014               30.073580            10.113789   \n",
       "7544               66341.178029               34.961826            13.203461   \n",
       "4545               31054.949220               46.106749            16.503922   \n",
       "6680               27306.192868               21.120700            22.609254   \n",
       "5855               16408.720240               43.017724            11.756975   \n",
       "\n",
       "      air_quality_index  crime_rate_per_1000  fire_station_proximity  \\\n",
       "5846          52.830152            19.879518                0.669529   \n",
       "7544          86.298477            65.531645                6.284401   \n",
       "4545          56.146415            31.978132                3.830554   \n",
       "6680          31.514748            18.892706                7.960523   \n",
       "5855          39.365717            28.556242                5.401078   \n",
       "\n",
       "      proximity_to_highways  internet_speed  housing_price_index    year  \\\n",
       "5846              18.877326       91.490016            88.356512  2022.0   \n",
       "7544              11.449390       31.791613           107.527199  2022.0   \n",
       "4545               9.470108       61.333742            98.681242  2018.0   \n",
       "6680               3.198202       35.004245           106.552954  2018.0   \n",
       "5855              17.167561       73.958336            87.267601  2021.0   \n",
       "\n",
       "      road_density  \n",
       "5846    108.759141  \n",
       "7544     70.697805  \n",
       "4545     64.243977  \n",
       "6680           NaN  \n",
       "5855     16.100594  "
      ]
     },
     "execution_count": 23,
     "metadata": {},
     "output_type": "execute_result"
    }
   ],
   "source": [
    "import pandas as pd\n",
    "from sklearn.utils import resample\n",
    "from sklearn.preprocessing import LabelEncoder\n",
    "\n",
    "df = pd.read_csv('./data/urban_development_dataset.csv')\n",
    "print(\"Répartition initiale des classes :\")\n",
    "print(df['development_trend_score'].value_counts())\n",
    "\n",
    "#undersampling\n",
    "# min_samples = df['development_trend_score'].value_counts().min()\n",
    "# balanced_dfs = []\n",
    "# for score in df['development_trend_score'].unique():\n",
    "#     df_class = df[df['development_trend_score'] == score]\n",
    "#     if len(df_class) > min_samples:\n",
    "#         df_class_balanced = resample(df_class, \n",
    "#                                      replace=False, \n",
    "#                                      n_samples=min_samples, \n",
    "#                                      random_state=42)\n",
    "#     else:\n",
    "#         df_class_balanced = resample(df_class, \n",
    "#                                      replace=True, \n",
    "#                                      n_samples=min_samples, \n",
    "#                                      random_state=42)\n",
    "#     balanced_dfs.append(df_class_balanced)\n",
    "# df = pd.concat(balanced_dfs)\n",
    "#oversampling\n",
    "max_class_count = df['development_trend_score'].value_counts().max()\n",
    "dfs = []\n",
    "for label in df['development_trend_score'].unique():\n",
    "    df_label = df[df['development_trend_score'] == label]\n",
    "    \n",
    "    # Sur-échantillonner la classe pour atteindre le nombre max_class_count\n",
    "    df_label_upsampled = resample(\n",
    "        df_label,\n",
    "        replace=True,              # Autoriser les doublons\n",
    "        n_samples=max_class_count, # Nombre d'échantillons après sur-échantillonnage\n",
    "        random_state=42            # Reproductibilité\n",
    "    )\n",
    "    \n",
    "    dfs.append(df_label_upsampled)\n",
    "df_balanced = pd.concat(dfs)\n",
    "df = df_balanced\n",
    "\n",
    "print(\"\\nRépartition après équilibrage :\")\n",
    "print(df['development_trend_score'].value_counts())\n",
    "\n",
    "test_data = pd.read_csv('./data/urban_development_test_data.csv')\n",
    "common_columns = df.columns.intersection(test_data.columns)\n",
    "\n",
    "Y = df['development_trend_score']\n",
    "df = df[common_columns]\n",
    "test_data = test_data[common_columns]\n",
    "\n",
    "le = LabelEncoder()\n",
    "df.head()\n"
   ]
  },
  {
   "cell_type": "markdown",
   "metadata": {},
   "source": [
    "Preprocessing data using median for numerical features | KNN\n"
   ]
  },
  {
   "cell_type": "code",
   "execution_count": 24,
   "metadata": {},
   "outputs": [
    {
     "name": "stdout",
     "output_type": "stream",
     "text": [
      "population_density               0\n",
      "median_age                       0\n",
      "average_household_income         0\n",
      "number_of_schools                0\n",
      "number_of_hospitals              0\n",
      "number_of_parks                  0\n",
      "public_transport_availability    0\n",
      "unemployment_rate                0\n",
      "retail_density                   0\n",
      "office_space_availability        0\n",
      "green_space_percentage           0\n",
      "average_temperature              0\n",
      "air_quality_index                0\n",
      "crime_rate_per_1000              0\n",
      "fire_station_proximity           0\n",
      "proximity_to_highways            0\n",
      "internet_speed                   0\n",
      "housing_price_index              0\n",
      "year                             0\n",
      "road_density                     0\n",
      "dtype: int64\n"
     ]
    },
    {
     "name": "stderr",
     "output_type": "stream",
     "text": [
      "/tmp/ipykernel_6443/1268813566.py:18: SettingWithCopyWarning: \n",
      "A value is trying to be set on a copy of a slice from a DataFrame.\n",
      "Try using .loc[row_indexer,col_indexer] = value instead\n",
      "\n",
      "See the caveats in the documentation: https://pandas.pydata.org/pandas-docs/stable/user_guide/indexing.html#returning-a-view-versus-a-copy\n",
      "  df[numerical_features] = knn_imputer.fit_transform(df[numerical_features])\n"
     ]
    }
   ],
   "source": [
    "from sklearn.impute import KNNImputer\n",
    "numerical_features = [\n",
    "    \"population_density\", 'median_age', 'average_household_income', \n",
    "    'number_of_schools', 'number_of_hospitals', 'number_of_parks', \n",
    "    'public_transport_availability', 'unemployment_rate', 'retail_density', \n",
    "    'office_space_availability', 'green_space_percentage', 'average_temperature', \n",
    "    'air_quality_index', 'crime_rate_per_1000', 'fire_station_proximity', \n",
    "    'proximity_to_highways', 'internet_speed', 'road_density', \n",
    "    'housing_price_index', 'year'\n",
    "]\n",
    "# imputer = SimpleImputer(strategy='median') \n",
    "# numerical_features = [\"population_density\",'median_age', 'average_household_income', 'number_of_schools', 'number_of_hospitals','number_of_parks','public_transport_availability' ,'unemployment_rate', 'retail_density','office_space_availability','green_space_percentage','average_temperature','air_quality_index','crime_rate_per_1000','fire_station_proximity','proximity_to_highways','internet_speed','road_density','housing_price_index','year',  ]\n",
    "# df[numerical_features] = imputer.fit_transform(df[numerical_features])\n",
    "# df.isnull().sum()\n",
    "\n",
    "\n",
    "knn_imputer = KNNImputer(n_neighbors=5)  \n",
    "df[numerical_features] = knn_imputer.fit_transform(df[numerical_features])\n",
    "print(df.isnull().sum())\n"
   ]
  },
  {
   "cell_type": "markdown",
   "metadata": {},
   "source": [
    "Normalisation"
   ]
  },
  {
   "cell_type": "code",
   "execution_count": 25,
   "metadata": {},
   "outputs": [],
   "source": [
    "# correlation_matrix = df.corr()  \n",
    "# threshold = 0.9\n",
    "# correlation_matrix\n",
    "# high_corr_features = set()\n",
    "# for i in range(len(correlation_matrix.columns)):\n",
    "#     for j in range(i):\n",
    "#         if abs(correlation_matrix.iloc[i, j]) > threshold:\n",
    "#             colname = correlation_matrix.columns[i]\n",
    "#             high_corr_features.add(colname)\n",
    "\n",
    "# print(f\"Features to drop due to high correlation: {high_corr_features}\")\n",
    "# df = df.drop(high_corr_features, axis=1)"
   ]
  },
  {
   "cell_type": "code",
   "execution_count": 26,
   "metadata": {},
   "outputs": [],
   "source": [
    "X = df\n",
    "scaler = StandardScaler()\n",
    "X = scaler.fit_transform(X)"
   ]
  },
  {
   "cell_type": "markdown",
   "metadata": {},
   "source": [
    "check outliers"
   ]
  },
  {
   "cell_type": "code",
   "execution_count": 87,
   "metadata": {},
   "outputs": [
    {
     "name": "stdout",
     "output_type": "stream",
     "text": [
      "      population_density  median_age  average_household_income  \\\n",
      "0               0.512888    0.756167                  0.029903   \n",
      "1               0.137358    0.528189                  0.323029   \n",
      "2               0.667493    0.669652                  0.409018   \n",
      "3               1.563880    0.085279                  0.108920   \n",
      "4               0.235552    1.244407                  0.598128   \n",
      "...                  ...         ...                       ...   \n",
      "9995            1.336617    0.381161                  0.286295   \n",
      "9996            2.042161    1.436593                  0.404432   \n",
      "9997            0.718044    0.371057                  0.260359   \n",
      "9998            0.511917    1.795142                  0.735555   \n",
      "9999            0.664113    1.760282                  0.167272   \n",
      "\n",
      "      number_of_schools  number_of_hospitals  number_of_parks  \\\n",
      "0              0.006087             0.008146         0.031991   \n",
      "1              0.452271             1.451696         0.031991   \n",
      "2              0.268928             0.008146         1.791646   \n",
      "3              0.006087             0.008146         1.791646   \n",
      "4              0.464445             1.451696         1.791646   \n",
      "...                 ...                  ...              ...   \n",
      "9995           0.910628             0.008146         1.141113   \n",
      "9996           0.006087             0.008146         1.205094   \n",
      "9997           1.381160             1.451696         0.618542   \n",
      "9998           1.839518             1.451696         0.031991   \n",
      "9999           0.452271             0.008146         1.205094   \n",
      "\n",
      "      public_transport_availability  unemployment_rate  retail_density  \\\n",
      "0                          0.282842           1.455319        0.684756   \n",
      "1                          0.556442           0.028235        0.200051   \n",
      "2                          0.885767           0.482153        0.968213   \n",
      "3                          1.764726           0.072771        0.761279   \n",
      "4                          1.212246           0.846347        0.089575   \n",
      "...                             ...                ...             ...   \n",
      "9995                       1.766067           0.218031        0.213312   \n",
      "9996                       0.360805           0.800675        0.907500   \n",
      "9997                       1.244187           1.169310        0.067450   \n",
      "9998                       0.187161           3.301624        0.561811   \n",
      "9999                       1.377029           0.285056        0.665925   \n",
      "\n",
      "      office_space_availability  green_space_percentage  average_temperature  \\\n",
      "0                      1.375430                0.076165             3.335736   \n",
      "1                      1.650903                0.828586             0.317857   \n",
      "2                      0.034120                1.184054             1.333817   \n",
      "3                      0.711927                0.714202             1.081411   \n",
      "4                      0.191218                1.274387             0.907513   \n",
      "...                         ...                     ...                  ...   \n",
      "9995                   1.180916                0.205678             0.345394   \n",
      "9996                   0.050401                0.303850             0.544666   \n",
      "9997                   1.535872                1.061766             1.056728   \n",
      "9998                   0.704872                1.500242             0.038403   \n",
      "9999                   0.272951                0.678084             1.129029   \n",
      "\n",
      "      air_quality_index  crime_rate_per_1000  fire_station_proximity  \\\n",
      "0              0.575378             0.261282                0.486433   \n",
      "1              0.857476             0.363658                0.521020   \n",
      "2              0.800470             0.106704                0.151027   \n",
      "3              0.211948             0.811984                1.564407   \n",
      "4              0.836745             0.359288                1.193974   \n",
      "...                 ...                  ...                     ...   \n",
      "9995           0.417658             0.575106                0.159815   \n",
      "9996           1.299639             0.797294                1.357823   \n",
      "9997           0.002584             0.122278                1.519809   \n",
      "9998           1.359987             0.540894                0.410314   \n",
      "9999           0.091923             0.231426                0.529920   \n",
      "\n",
      "      proximity_to_highways  internet_speed  housing_price_index      year  \\\n",
      "0                  1.271257        1.435866             0.496177  0.015114   \n",
      "1                  0.375942        0.213152             0.044199  0.736204   \n",
      "2                  1.185392        0.789731             1.916182  0.015114   \n",
      "3                  1.479587        1.084528             0.499188  0.705976   \n",
      "4                  0.890540        3.026199             1.788293  1.427066   \n",
      "...                     ...             ...                  ...       ...   \n",
      "9995               1.115220        0.117417             0.496960  1.427066   \n",
      "9996               1.698550        0.269914             0.284190  0.015114   \n",
      "9997               0.297839        0.790546             0.276577  0.736204   \n",
      "9998               1.688182        0.886266             0.851660  0.015114   \n",
      "9999               0.480993        0.267295             0.113824  0.705976   \n",
      "\n",
      "      road_density  \n",
      "0         0.283065  \n",
      "1         0.282066  \n",
      "2         1.141301  \n",
      "3         1.453577  \n",
      "4         0.140409  \n",
      "...            ...  \n",
      "9995      1.536469  \n",
      "9996      1.924145  \n",
      "9997      1.158643  \n",
      "9998      0.973028  \n",
      "9999      0.538981  \n",
      "\n",
      "[10000 rows x 20 columns]\n"
     ]
    },
    {
     "data": {
      "text/plain": [
       "<Figure size 1000x600 with 0 Axes>"
      ]
     },
     "metadata": {},
     "output_type": "display_data"
    }
   ],
   "source": [
    "from scipy.stats import zscore\n",
    "z_scores = np.abs(zscore(df)) \n",
    "outlier_mask = (z_scores > 3).any(axis=1)\n",
    "plt.figure(figsize=(10, 6))\n",
    "print(z_scores)"
   ]
  },
  {
   "cell_type": "code",
   "execution_count": 40,
   "metadata": {},
   "outputs": [],
   "source": [
    "# import numpy as np\n",
    "# import matplotlib.pyplot as plt\n",
    "# from sklearn.decomposition import PCA\n",
    "\n",
    "# pca = PCA(n_components=2)\n",
    "# X_pca = pca.fit_transform(X)\n",
    "\n",
    "# loadings = pca.components_.T * np.sqrt(pca.explained_variance_)\n",
    "# plt.figure(figsize=(12, 8))\n",
    "\n",
    "# plt.scatter(X_pca[:, 0], X_pca[:, 1], c=Y, cmap='viridis', edgecolor='k', s=50)\n",
    "# plt.colorbar(label='Development Trend Score')\n",
    "# plt.title('PCA Biplot')\n",
    "# plt.xlabel('PC1')\n",
    "# plt.ylabel('PC2')\n",
    "\n",
    "# for i, var in enumerate(X.T):\n",
    "#     plt.arrow(0, 0, loadings[i, 0], loadings[i, 1], color='r', alpha=0.7, head_width=0.05, linewidth=1.5)\n",
    "#     plt.text(loadings[i, 0] * 1.1, loadings[i, 1] * 1.1, var, color='r', ha='center', va='center', fontsize=10)\n",
    "\n",
    "# plt.grid()\n",
    "# plt.show()\n"
   ]
  },
  {
   "cell_type": "markdown",
   "metadata": {},
   "source": [
    "split data"
   ]
  },
  {
   "cell_type": "code",
   "execution_count": 27,
   "metadata": {},
   "outputs": [
    {
     "name": "stdout",
     "output_type": "stream",
     "text": [
      "(16076, 20) (4019, 20) (16076,) (4019,)\n"
     ]
    }
   ],
   "source": [
    "train_x, test_x, train_y, test_y = train_test_split(X, Y, test_size=0.2, random_state=42)\n",
    "print(train_x.shape, test_x.shape, train_y.shape, test_y.shape)\n",
    "# train_x, train_y = X, Y\n"
   ]
  },
  {
   "cell_type": "code",
   "execution_count": 28,
   "metadata": {},
   "outputs": [
    {
     "name": "stdout",
     "output_type": "stream",
     "text": [
      "Test Accuracy: 0.221945757651157\n",
      "Classification Report for SVM:\n",
      "              precision    recall  f1-score   support\n",
      "\n",
      "           1       0.23      0.28      0.25       803\n",
      "           2       0.22      0.24      0.23       774\n",
      "           3       0.21      0.13      0.16       827\n",
      "           4       0.22      0.25      0.23       777\n",
      "           5       0.23      0.22      0.23       838\n",
      "\n",
      "    accuracy                           0.22      4019\n",
      "   macro avg       0.22      0.22      0.22      4019\n",
      "weighted avg       0.22      0.22      0.22      4019\n",
      "\n"
     ]
    }
   ],
   "source": [
    "from sklearn.metrics import accuracy_score, classification_report\n",
    "from sklearn.model_selection import GridSearchCV\n",
    "from sklearn.multiclass import OneVsRestClassifier, OneVsOneClassifier\n",
    "\n",
    "\n",
    "model = svm.SVC(kernel='linear', gamma='scale' , C=0.1)\n",
    "model.fit(X,Y)\n",
    "\n",
    "ovo_model = OneVsOneClassifier(model)\n",
    "ovo_model.fit(train_x, train_y)\n",
    "y_pred = ovo_model.predict(test_x)\n",
    "\n",
    "# Evaluate the model\n",
    "print(f\"Test Accuracy: {accuracy_score(test_y, y_pred)}\")\n",
    "print(f\"Classification Report for SVM:\\n{classification_report(test_y, y_pred)}\")"
   ]
  },
  {
   "cell_type": "code",
   "execution_count": 29,
   "metadata": {},
   "outputs": [
    {
     "name": "stdout",
     "output_type": "stream",
     "text": [
      "Test Accuracy: 0.22045284896740483\n",
      "Classification Report for SVM:\n",
      "              precision    recall  f1-score   support\n",
      "\n",
      "           1       0.23      0.28      0.25       803\n",
      "           2       0.22      0.25      0.23       774\n",
      "           3       0.21      0.13      0.16       827\n",
      "           4       0.22      0.24      0.23       777\n",
      "           5       0.22      0.21      0.22       838\n",
      "\n",
      "    accuracy                           0.22      4019\n",
      "   macro avg       0.22      0.22      0.22      4019\n",
      "weighted avg       0.22      0.22      0.22      4019\n",
      "\n"
     ]
    }
   ],
   "source": [
    "svc_model = svm.SVC(kernel='linear', gamma='scale' , C=0.1)\n",
    "svc_model.fit(train_x, train_y)\n",
    "y_pred = svc_model.predict(test_x)\n",
    "print(f\"Test Accuracy: {accuracy_score(test_y, y_pred)}\")\n",
    "print(f\"Classification Report for SVM:\\n{classification_report(test_y, y_pred)}\")"
   ]
  },
  {
   "cell_type": "markdown",
   "metadata": {},
   "source": [
    "testing data"
   ]
  },
  {
   "cell_type": "code",
   "execution_count": 30,
   "metadata": {},
   "outputs": [],
   "source": [
    "from sklearn.impute import KNNImputer\n",
    "# test_data = pd.read_csv('./data/urban_development_test_data.csv')\n",
    "# test_data.shape\n",
    "\n",
    "numerical_features = [\n",
    "    \"population_density\", 'median_age', 'average_household_income', \n",
    "    'number_of_schools', 'number_of_hospitals', 'number_of_parks', \n",
    "    'public_transport_availability', 'unemployment_rate', 'retail_density', \n",
    "    'office_space_availability', 'green_space_percentage', 'average_temperature', \n",
    "    'air_quality_index', 'crime_rate_per_1000', 'fire_station_proximity', \n",
    "    'proximity_to_highways', 'internet_speed', 'road_density', \n",
    "    'housing_price_index', 'year'\n",
    "]\n",
    "# imputer = SimpleImputer(strategy='median') \n",
    "# test_data[numerical_features] = imputer.fit_transform(test_data[numerical_features])\n",
    "# test_data.isnull().sum()\n",
    "knn_imputer = KNNImputer(n_neighbors=5)  \n",
    "test_data[numerical_features] = knn_imputer.fit_transform(test_data[numerical_features])\n",
    "# print(test_data.isnull().sum())\n"
   ]
  },
  {
   "cell_type": "markdown",
   "metadata": {},
   "source": [
    "output"
   ]
  },
  {
   "cell_type": "code",
   "execution_count": 71,
   "metadata": {},
   "outputs": [
    {
     "name": "stderr",
     "output_type": "stream",
     "text": [
      "/home/self-ouss/notebooks/.venv/lib/python3.12/site-packages/sklearn/base.py:486: UserWarning: X has feature names, but OneVsOneClassifier was fitted without feature names\n",
      "  warnings.warn(\n"
     ]
    },
    {
     "name": "stdout",
     "output_type": "stream",
     "text": [
      "Submission file saved at: ./test/development_trend_predictions_classification.csv\n"
     ]
    }
   ],
   "source": [
    "output = ovo_model.predict(test_data)\n",
    "output\n",
    "submission = pd.DataFrame({\n",
    "    \"ID\": test_data.index + 1,  \n",
    "    \"development_trend_score\": output\n",
    "})\n",
    "submission_file_path = './test/development_trend_predictions_classification.csv'\n",
    "submission.to_csv(submission_file_path, index=False)\n",
    "print(f\"Submission file saved at: {submission_file_path}\")"
   ]
  },
  {
   "cell_type": "markdown",
   "metadata": {},
   "source": [
    "grid search for svm"
   ]
  },
  {
   "cell_type": "code",
   "execution_count": null,
   "metadata": {},
   "outputs": [],
   "source": [
    "from sklearn.metrics import accuracy_score, classification_report\n",
    "from sklearn.model_selection import GridSearchCV\n",
    "print(f\"Performing Cross-Validation for SVM\")\n",
    "\n",
    "param_grid = {\n",
    "'C': [0.1, 1, 10],  \n",
    "'kernel': ['linear', 'rbf'],  \n",
    "'gamma': ['scale', 'auto']  \n",
    "}\n",
    "model = svm.SVC()\n",
    "grid_search = GridSearchCV(estimator=model, param_grid=param_grid, cv=5, scoring='accuracy')\n",
    "grid_search.fit(train_x, train_y)\n",
    "\n",
    "print(f\"Best Parameters: {grid_search.best_params_}\")\n",
    "print(f\"Best Cross-Validation Score: {grid_search.best_score_}\")\n",
    "\n",
    "best_model = grid_search.best_estimator_\n",
    "y_pred = best_model.predict(test_x)\n",
    "\n",
    "# Evaluate the model\n",
    "print(f\"Test Accuracy: {accuracy_score(test_y, y_pred)}\")\n",
    "print(f\"Classification Report for SVM:\\n{classification_report(test_y, y_pred)}\")\n"
   ]
  },
  {
   "cell_type": "markdown",
   "metadata": {},
   "source": [
    "grid search for randomforest"
   ]
  },
  {
   "cell_type": "code",
   "execution_count": 31,
   "metadata": {},
   "outputs": [
    {
     "name": "stdout",
     "output_type": "stream",
     "text": [
      "Fitting 5 folds for each of 24 candidates, totalling 120 fits\n"
     ]
    },
    {
     "name": "stdout",
     "output_type": "stream",
     "text": [
      "Best Parameters for Random Forest: {'max_depth': 10, 'min_samples_leaf': 2, 'min_samples_split': 5, 'n_estimators': 100}\n",
      "Best Cross-Validation Score for Random Forest: 0.40149999999999997\n"
     ]
    }
   ],
   "source": [
    "from sklearn.ensemble import RandomForestClassifier\n",
    "from sklearn.model_selection import GridSearchCV\n",
    "\n",
    "\n",
    "param_grid_rf = {\n",
    "    'n_estimators': [100, 200],   \n",
    "    'max_depth': [None, 10, 20],      \n",
    "    'min_samples_split': [5, 10],  \n",
    "    'min_samples_leaf': [2, 4],    \n",
    "}\n",
    "\n",
    "rf_model = RandomForestClassifier(random_state=42)\n",
    "\n",
    "grid_search_rf = GridSearchCV(\n",
    "    estimator=rf_model,\n",
    "    param_grid=param_grid_rf,\n",
    "    cv=5, \n",
    "    scoring='accuracy', \n",
    "    verbose=1,\n",
    "    n_jobs=-1  \n",
    ")\n",
    "\n",
    "grid_search_rf.fit(train_x, train_y)\n",
    "\n",
    "print(f\"Best Parameters for Random Forest: {grid_search_rf.best_params_}\")\n",
    "print(f\"Best Cross-Validation Score for Random Forest: {grid_search_rf.best_score_}\")\n",
    "\n",
    "best_rf_model = grid_search_rf.best_estimator_\n",
    "y_pred_rf = best_rf_model.predict(test_x)\n",
    "\n",
    "# print(f\"Test Accuracy for Random Forest: {accuracy_score(test_y, y_pred_rf)}\")\n",
    "# print(f\"Classification Report for Random Forest:\\n{classification_report(test_y, y_pred_rf)}\")\n"
   ]
  },
  {
   "cell_type": "code",
   "execution_count": 34,
   "metadata": {},
   "outputs": [
    {
     "name": "stdout",
     "output_type": "stream",
     "text": [
      "Test Accuracy for Random Forest: 0.8882806668325454\n",
      "Classification Report for Random Forest:\n",
      "              precision    recall  f1-score   support\n",
      "\n",
      "           1       0.98      0.97      0.98       803\n",
      "           2       0.88      0.84      0.86       774\n",
      "           3       0.75      0.84      0.79       827\n",
      "           4       0.87      0.85      0.86       777\n",
      "           5       0.98      0.94      0.96       838\n",
      "\n",
      "    accuracy                           0.89      4019\n",
      "   macro avg       0.89      0.89      0.89      4019\n",
      "weighted avg       0.89      0.89      0.89      4019\n",
      "\n"
     ]
    }
   ],
   "source": [
    "\n",
    "\n",
    "from sklearn.metrics import accuracy_score, classification_report\n",
    "from sklearn.ensemble import RandomForestClassifier\n",
    "\n",
    "# rfm = RandomForestClassifier(max_depth=10, min_samples_leaf=4, min_samples_split=5, n_estimators=100, random_state=42)\n",
    "rfm = RandomForestClassifier(random_state=42, n_estimators=200)\n",
    "# rfm.fit(X, Y)\n",
    "rfm.fit(train_x, train_y)\n",
    "y_pred_rf = rfm.predict(test_x)\n",
    "\n",
    "print(f\"Test Accuracy for Random Forest: {accuracy_score(test_y, y_pred_rf)}\")\n",
    "print(f\"Classification Report for Random Forest:\\n{classification_report(test_y, y_pred_rf)}\")\n"
   ]
  },
  {
   "cell_type": "code",
   "execution_count": 35,
   "metadata": {},
   "outputs": [
    {
     "name": "stdout",
     "output_type": "stream",
     "text": [
      "Submission file saved at: ./test/development_trend_predictions_classification.csv\n"
     ]
    },
    {
     "name": "stderr",
     "output_type": "stream",
     "text": [
      "/home/self-ouss/notebooks/.venv/lib/python3.12/site-packages/sklearn/base.py:486: UserWarning: X has feature names, but RandomForestClassifier was fitted without feature names\n",
      "  warnings.warn(\n"
     ]
    },
    {
     "data": {
      "text/plain": [
       "array([4, 4, 1, 3, 5, 5, 2, 5, 5, 4, 2, 5, 4, 4, 2, 5, 4, 5, 5, 2, 5, 5,\n",
       "       2, 4, 4, 3, 5, 4, 4, 5, 5, 3, 5, 4, 5, 4, 5, 3, 2, 2, 5, 4, 4, 2,\n",
       "       4, 5, 3, 2, 5, 5, 5, 2, 5, 5, 4, 4, 5, 4, 5, 5, 4, 5, 3, 4, 4, 5,\n",
       "       5, 4, 4, 5, 3, 4, 5, 5, 5, 5, 4, 5, 3, 3, 4, 5, 5, 2, 5, 5, 5, 4,\n",
       "       2, 5, 5, 5, 5, 5, 4, 5, 5, 4, 5, 5, 4, 2, 5, 5, 5, 5, 5, 5, 2, 5,\n",
       "       4, 3, 3, 5, 5, 5, 5, 5, 4, 5, 4, 2, 4, 5, 4, 4, 5, 5, 2, 2, 5, 3,\n",
       "       4, 5, 5, 4, 5, 5, 5, 5, 5, 2, 2, 5, 4, 4, 4, 3, 5, 4, 3, 4, 5, 5,\n",
       "       4, 2, 4, 5, 5, 5, 5, 5, 4, 4, 5, 4, 5, 5, 5, 5, 5, 4, 4, 5, 3, 5,\n",
       "       2, 4, 4, 2, 5, 2, 4, 5, 5, 1, 5, 5, 5, 5, 3, 4, 5, 2, 4, 5, 3, 3,\n",
       "       5, 5])"
      ]
     },
     "execution_count": 35,
     "metadata": {},
     "output_type": "execute_result"
    }
   ],
   "source": [
    "output = rfm.predict(test_data)\n",
    "submission = pd.DataFrame({\n",
    "    \"ID\": test_data.index + 1,  \n",
    "    \"development_trend_score\": output\n",
    "})\n",
    "submission_file_path = './test/development_trend_predictions_classification.csv'\n",
    "submission.to_csv(submission_file_path, index=False)\n",
    "print(f\"Submission file saved at: {submission_file_path}\")\n",
    "output[:200]"
   ]
  }
 ],
 "metadata": {
  "kernelspec": {
   "display_name": ".venv",
   "language": "python",
   "name": "python3"
  },
  "language_info": {
   "codemirror_mode": {
    "name": "ipython",
    "version": 3
   },
   "file_extension": ".py",
   "mimetype": "text/x-python",
   "name": "python",
   "nbconvert_exporter": "python",
   "pygments_lexer": "ipython3",
   "version": "3.12.3"
  }
 },
 "nbformat": 4,
 "nbformat_minor": 2
}
